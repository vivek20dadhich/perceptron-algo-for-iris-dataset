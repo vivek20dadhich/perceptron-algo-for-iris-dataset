{
 "cells": [
  {
   "cell_type": "markdown",
   "metadata": {},
   "source": [
    "### Vivek Dadhich\n",
    "\n",
    "### 20MAI0077\n",
    "\n",
    "### Repository-link: \n",
    "\n",
    "### Task 2 -> Implement perceptron/backpropagation on a publically available dataset using buitin functions\n",
    "<br /><br />"
   ]
  },
  {
   "cell_type": "code",
   "execution_count": 2,
   "metadata": {
    "_cell_guid": "bcb24828-c59c-410c-b0e6-bd0c78200973",
    "_uuid": "7a2d52a56a4e0618d4c8638068cfb9d35ba7dca2"
   },
   "outputs": [],
   "source": [
    "from sklearn import datasets \n",
    "import numpy as np\n",
    "import pandas as pd\n",
    "from matplotlib.colors import ListedColormap\n",
    "import matplotlib.pyplot as plt"
   ]
  },
  {
   "cell_type": "code",
   "execution_count": 3,
   "metadata": {
    "_cell_guid": "8c5e30e5-931b-4494-8bf5-bb7e5e853922",
    "_kg_hide-output": true,
    "_uuid": "1d0bc286db727e738c1a97738f1298bfc0a9bdf9"
   },
   "outputs": [],
   "source": [
    "iris = datasets.load_iris()"
   ]
  },
  {
   "cell_type": "code",
   "execution_count": 4,
   "metadata": {
    "_cell_guid": "fc1cfb46-9a12-4795-95d9-2faae581c77a",
    "_uuid": "9f5d7963ba00c82de994a0f3083977f9638692b2"
   },
   "outputs": [],
   "source": [
    "x = iris.data[:, [2,3]]\n",
    "y = iris.target"
   ]
  },
  {
   "cell_type": "code",
   "execution_count": 5,
   "metadata": {
    "_cell_guid": "52ce43c4-120f-4d2f-82dd-0f25df614db3",
    "_kg_hide-output": false,
    "_uuid": "a0b8aaf1ccd1e4bb23ba00cecf9ff989d6b1fadb"
   },
   "outputs": [
    {
     "name": "stdout",
     "output_type": "stream",
     "text": [
      "Class labels: [0 1 2]\n"
     ]
    }
   ],
   "source": [
    "print ('Class labels:', np.unique(y))"
   ]
  },
  {
   "cell_type": "code",
   "execution_count": 6,
   "metadata": {
    "_cell_guid": "aacd2b5b-a4bc-46e5-8aaf-1f45e0473152",
    "_uuid": "0e1d713bb980d9368c7c3bc090c2afa604b56ad1"
   },
   "outputs": [],
   "source": [
    "# splitting data into test and train data set\n",
    "from sklearn.model_selection import train_test_split\n"
   ]
  },
  {
   "cell_type": "code",
   "execution_count": 7,
   "metadata": {
    "_cell_guid": "51e766f1-c266-4e20-be59-14aaaaa16eae",
    "_uuid": "905993e27d332ebe40299f9386023f8ec7e0a40f"
   },
   "outputs": [],
   "source": [
    "x_train, x_test, y_train, y_test = train_test_split(x,y, test_size=0.3, random_state=1, stratify = y)\n"
   ]
  },
  {
   "cell_type": "code",
   "execution_count": 8,
   "metadata": {
    "_cell_guid": "b4eb2a96-742c-4104-bfe0-f4d059aed5ad",
    "_uuid": "b49ac84f11be1442c1bf5ba732e207e5a8862a97"
   },
   "outputs": [
    {
     "name": "stdout",
     "output_type": "stream",
     "text": [
      "Lables count in y: [50 50 50]\n",
      "Lables counts in y_train: [35 35 35]\n",
      "Lables counts in y_test: [15 15 15]\n"
     ]
    }
   ],
   "source": [
    "print ('Lables count in y:', np.bincount(y))\n",
    "print('Lables counts in y_train:', np.bincount(y_train))\n",
    "print('Lables counts in y_test:', np.bincount(y_test))"
   ]
  },
  {
   "cell_type": "code",
   "execution_count": 9,
   "metadata": {
    "_cell_guid": "d01aab25-1857-4248-91f8-0a16f3c32ee4",
    "_uuid": "20994fcdc898da5977c3745afd927a8a182bd88f"
   },
   "outputs": [],
   "source": [
    "from sklearn.preprocessing import StandardScaler\n",
    "sc = StandardScaler()\n",
    "sc.fit(x_train)\n",
    "x_train_std = sc.transform(x_train)\n",
    "x_test_std = sc.transform(x_test)"
   ]
  },
  {
   "cell_type": "code",
   "execution_count": 10,
   "metadata": {
    "_cell_guid": "e0ec075a-601e-4e60-b7d2-d60033fffbeb",
    "_uuid": "ff8ba01e69edb89abbdd0d7c0a5c46850cec3f6b"
   },
   "outputs": [
    {
     "data": {
      "text/plain": [
       "Perceptron(eta0=0.1, max_iter=40, random_state=1)"
      ]
     },
     "execution_count": 10,
     "metadata": {},
     "output_type": "execute_result"
    }
   ],
   "source": [
    "from sklearn.linear_model import Perceptron\n",
    "ppn = Perceptron(max_iter = 40, eta0=0.1, random_state=1)\n",
    "ppn.fit(x_train_std, y_train)"
   ]
  },
  {
   "cell_type": "code",
   "execution_count": 11,
   "metadata": {
    "_cell_guid": "a5f1010b-4552-401f-94f6-a640dd9d553f",
    "_uuid": "85b36ea65fd0bc5e0f994ace7c6b5bfb3ffb933f"
   },
   "outputs": [],
   "source": [
    "y_pred = ppn.predict(x_test_std)\n"
   ]
  },
  {
   "cell_type": "code",
   "execution_count": 12,
   "metadata": {
    "_cell_guid": "51da3302-ac36-449a-88a0-221db10126c8",
    "_uuid": "db49f270ded84ba87985d4072137d6d6d017df5e"
   },
   "outputs": [
    {
     "name": "stdout",
     "output_type": "stream",
     "text": [
      "Misclassified samples: 1\n"
     ]
    }
   ],
   "source": [
    "print('Misclassified samples: %d' %(y_test !=y_pred).sum())"
   ]
  },
  {
   "cell_type": "code",
   "execution_count": 13,
   "metadata": {
    "_cell_guid": "0d5587c5-fee0-486b-94d2-33a4fbb83563",
    "_uuid": "9bd22582ec939911fa48dd95d5204644090bf4bf"
   },
   "outputs": [
    {
     "name": "stdout",
     "output_type": "stream",
     "text": [
      "Accuracy:0.98\n"
     ]
    }
   ],
   "source": [
    "from sklearn.metrics import accuracy_score\n",
    "print(\"Accuracy:%.2f\" %accuracy_score(y_test, y_pred))"
   ]
  },
  {
   "cell_type": "code",
   "execution_count": 14,
   "metadata": {
    "_cell_guid": "6d50535c-fef3-47d0-8db3-b9b811fa2133",
    "_uuid": "70a491328d80c96c753621673528b81733a90fdc"
   },
   "outputs": [
    {
     "name": "stdout",
     "output_type": "stream",
     "text": [
      "Accuracy:0.98\n"
     ]
    }
   ],
   "source": [
    "print(\"Accuracy:%.2f\" %ppn.score(x_test_std, y_test))"
   ]
  },
  {
   "cell_type": "code",
   "execution_count": 22,
   "metadata": {
    "_cell_guid": "a527fd29-ff8a-4722-8aae-d4880f9bd347",
    "_uuid": "c72dd7f13289363ee062872f0e270bdcd2705d15"
   },
   "outputs": [],
   "source": [
    "def plot_decision_regions(x,y, classifier, test_idx=None, resolution=0.02):\n",
    "    markers = ('s','x','o','^','v')\n",
    "    colors =('red','blue','green','gray','cyan')\n",
    "    cmap = ListedColormap(colors[:len(np.unique(y))])\n",
    "    x1_min, x1_max = x[:, 0].min() -1, x[:,0].max()+1\n",
    "    x2_min, x2_max = x[:, 1].min() -1, x[:,1].max()+1\n",
    "    xx1, xx2 = np.meshgrid(np.arange(x1_min, x1_max,resolution),np.arange(x2_min,x2_max,resolution))\n",
    "    z = classifier.predict(np.array([xx1.ravel(),xx2.ravel()]).T)\n",
    "    z = z.reshape(xx1.shape)\n",
    "    plt.contourf(xx1,xx2,z,alpha=0.3, cmap=cmap)\n",
    "    plt.xlim(xx1.min(), xx1.max())\n",
    "    plt.ylim(xx2.min(),xx2.max())\n",
    "    \n",
    "    for idx, cl in enumerate(np.unique(y)):\n",
    "        plt.scatter(x=x[y==cl,0], y = x[y==cl, 1], alpha=0.8, c=colors[idx],marker = markers[idx],label = cl, edgecolor='black')\n",
    "    \n",
    "    if test_idx:\n",
    "        x_test, y_test = x[test_idx,:], y[test_idx]\n",
    "        plt.scatter(x_test[:,0], x_test[:,1], c=\"\", edgecolor=\"black\", marker='o', s=100, label=\"test set\")"
   ]
  },
  {
   "cell_type": "code",
   "execution_count": 23,
   "metadata": {
    "_cell_guid": "e4d7a63d-23c1-41f7-bd3d-08ee76262ca0",
    "_uuid": "8157d4118d527bd207b760d03fcd3d3cdf0cc697"
   },
   "outputs": [
    {
     "name": "stderr",
     "output_type": "stream",
     "text": [
      "<ipython-input-22-65af18166cfc>:19: MatplotlibDeprecationWarning: Using a string of single character colors as a color sequence is deprecated since 3.2 and will be removed two minor releases later. Use an explicit list instead.\n",
      "  plt.scatter(x_test[:,0], x_test[:,1], c=\"\", edgecolor=\"black\", marker='o', s=100, label=\"test set\")\n"
     ]
    },
    {
     "data": {
      "image/png": "[encoded data removed]",
      "text/plain": [
       "<Figure size 432x288 with 1 Axes>"
      ]
     },
     "metadata": {
      "needs_background": "light"
     },
     "output_type": "display_data"
    }
   ],
   "source": [
    "x_combined_std = np.vstack((x_train_std,x_test_std))\n",
    "y_combined = np.hstack((y_train,y_test))\n",
    "plot_decision_regions(x=x_combined_std, y= y_combined, classifier=ppn, test_idx= range(105,150))\n",
    "plt.xlabel('Petal length[standardized]')\n",
    "plt.ylabel('Petal Width[Standardized]')\n",
    "plt.legend(loc='upper left')\n",
    "plt.show()"
   ]
  },
  {
   "cell_type": "code",
   "execution_count": null,
   "metadata": {},
   "outputs": [],
   "source": []
  }
 ],
 "metadata": {
  "kernelspec": {
   "display_name": "Python 3",
   "language": "python",
   "name": "python3"
  },
  "language_info": {
   "codemirror_mode": {
    "name": "ipython",
    "version": 3
   },
   "file_extension": ".py",
   "mimetype": "text/x-python",
   "name": "python",
   "nbconvert_exporter": "python",
   "pygments_lexer": "ipython3",
   "version": "3.8.5"
  }
 },
 "nbformat": 4,
 "nbformat_minor": 1
}
